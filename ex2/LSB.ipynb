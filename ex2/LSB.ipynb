{
 "cells": [
  {
   "cell_type": "code",
   "execution_count": 1,
   "metadata": {},
   "outputs": [],
   "source": [
    "import numpy as np\n",
    "import cv2\n",
    "import itertools"
   ]
  },
  {
   "cell_type": "code",
   "execution_count": 3,
   "metadata": {},
   "outputs": [],
   "source": [
    "# 编码\n",
    "def str2bin(str):\n",
    "    return \" \".join([bin(ord(c)).replace('0b','') for c in str])\n",
    "# 解码\n",
    "def bin2str(bin):\n",
    "    return \"\".join([ chr((int(s,2))) for s in bin])"
   ]
  },
  {
   "cell_type": "code",
   "execution_count": 21,
   "metadata": {},
   "outputs": [],
   "source": [
    "# 函数LSB,   图像矩阵,隐藏信息，二进制字符串长度\n",
    "def LSB(mat,code):\n",
    "    row = len(mat)\n",
    "    col = len(mat[0])\n",
    "    size = len(code)\n",
    "    # 写入像素最低位\n",
    "    pos = 0\n",
    "    for i, j in itertools.product(range(row), range(col)):\n",
    "        # 检查像素最低位,奇数-1，偶数不变\n",
    "        if (mat[i,j] & 1) == 1:\n",
    "            mat[i,j] -= 1\n",
    "\n",
    "        # 开始写入数据, 判断跳出, 空格跳过, 1 +1, 0 不变\n",
    "        if(pos >= size):\n",
    "            break\n",
    "        if(code[pos] == ' '):\n",
    "            pos += 1\n",
    "        if(code[pos] == '1'):\n",
    "            mat[i,j] += 1\n",
    "        pos+=1\n",
    "    return mat\n",
    "\n",
    "# LSB提取隐藏信息    图像矩阵，二进制串长度\n",
    "def anti_LSB(mat,num):\n",
    "        # 解密\n",
    "    res = \"\"    # 二进制字符串，8位一组，每组最后一位是空格\n",
    "    cnt = 0     # 计数， 7循环\n",
    "    sum = 0     # 记录res中存在 字符数(7bit  1字符)\n",
    "    row = len(mat)\n",
    "    col = len(mat[1])\n",
    "    for i, j in itertools.product(range(row), range(col)):\n",
    "        # 开始读数据\n",
    "        res += '1' if (mat[i,j] & 1) == 1 else '0'\n",
    "        cnt += 1\n",
    "        # sum += 1\n",
    "        # 跳出判断需要在7循环之前\n",
    "        if cnt==7:\n",
    "            res += \" \"\n",
    "            cnt = 0\n",
    "            sum += 1\n",
    "        if sum == num:\n",
    "            break\n",
    "    return res"
   ]
  },
  {
   "cell_type": "code",
   "execution_count": 19,
   "metadata": {},
   "outputs": [],
   "source": [
    "# 初始化处理\n",
    "# mat = mpimage.imread(r\"E:\\Python\\IS\\ex2\\xiugai.jpg\",0)\n",
    "mat = cv2.imread(r\"E:\\Python\\IS\\ex2\\xiugai .jpg\",cv2.IMREAD_GRAYSCALE)\n",
    "# 显示\n",
    "cv2.imshow(\"image\",mat)\n",
    "# 关闭\n",
    "cv2.waitKey()   #要加的两行代码\n",
    "cv2.destroyAllWindows()\n",
    "\n",
    "# 隐藏信息处理\n",
    "str = \"CQUWATERMASKEXP\" \n",
    "code = str2bin(str)     # 转换为二进制串\n",
    "# print(code)\n",
    "# 二进制串长度\n",
    "size = len(code)\n",
    "# print(size)"
   ]
  },
  {
   "cell_type": "code",
   "execution_count": 22,
   "metadata": {},
   "outputs": [],
   "source": [
    "# 加密\n",
    "mat = LSB(mat,code)\n",
    "# print(mat)\n",
    "\n",
    "# 显示当前图像\n",
    "cv2.imshow(\"modify\",mat)\n",
    "cv2.waitKey()\n",
    "cv2.destroyAllWindows()"
   ]
  },
  {
   "cell_type": "code",
   "execution_count": 26,
   "metadata": {},
   "outputs": [
    {
     "name": "stdout",
     "output_type": "stream",
     "text": [
      "CQUWATERMASKEXP\n"
     ]
    }
   ],
   "source": [
    "# 解密\n",
    "res = anti_LSB(mat,15).strip()\n",
    "# print(mat)\n",
    "print(bin2str(res.split(\" \")))"
   ]
  }
 ],
 "metadata": {
  "interpreter": {
   "hash": "f94055e97f51ddfa7d9cd102fb05edcbeb6bf63bb7fd3b128357cbdb378bd053"
  },
  "kernelspec": {
   "display_name": "Python 3.7.5 ('tensorflow')",
   "language": "python",
   "name": "python3"
  },
  "language_info": {
   "codemirror_mode": {
    "name": "ipython",
    "version": 3
   },
   "file_extension": ".py",
   "mimetype": "text/x-python",
   "name": "python",
   "nbconvert_exporter": "python",
   "pygments_lexer": "ipython3",
   "version": "3.7.5"
  },
  "orig_nbformat": 4
 },
 "nbformat": 4,
 "nbformat_minor": 2
}
