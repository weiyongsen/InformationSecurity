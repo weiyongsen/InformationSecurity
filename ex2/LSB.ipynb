{
 "cells": [
  {
   "cell_type": "code",
   "execution_count": 18,
   "metadata": {},
   "outputs": [],
   "source": [
    "import numpy as np\n",
    "import cv2\n",
    "import itertools"
   ]
  },
  {
   "cell_type": "code",
   "execution_count": 19,
   "metadata": {},
   "outputs": [],
   "source": [
    "# 编码\n",
    "def str2bin(str):\n",
    "    return \" \".join([bin(ord(c)).replace('0b','') for c in str])\n",
    "# 解码\n",
    "def bin2str(bin):\n",
    "    return \"\".join([ chr((int(s,2))) for s in bin])"
   ]
  },
  {
   "cell_type": "code",
   "execution_count": 20,
   "metadata": {},
   "outputs": [],
   "source": [
    "# 函数LSB,   图像矩阵,隐藏信息字符串   \n",
    "def LSB(mat,str):\n",
    "    code = str2bin(str)     # 转换为二进制串\n",
    "    # 记录图像矩阵\n",
    "    row = len(mat)\n",
    "    col = len(mat[0])\n",
    "    # 二进制串长度\n",
    "    size = len(code)\n",
    "    # 写入像素最低位\n",
    "    pos = 0\n",
    "    for i, j in itertools.product(range(row), range(col)):\n",
    "        # 检查像素最低位,奇数-1，偶数不变\n",
    "        if (mat[i,j] & 1) == 1:\n",
    "            mat[i,j] -= 1\n",
    "\n",
    "        # 开始写入数据, 判断跳出,  \n",
    "        if(pos >= size):    # 二进制串读完\n",
    "            break\n",
    "        if(code[pos] == ' '):   # 空格跳过\n",
    "            pos += 1\n",
    "        if(code[pos] == '1'):   # 1 +1, 0 不变\n",
    "            mat[i,j] += 1\n",
    "        pos+=1\n",
    "    return mat  # 返回新的像素矩阵\n",
    "\n",
    "# LSB提取隐藏信息    图像矩阵，隐藏信息字符长度(len(str))\n",
    "def anti_LSB(mat,num):\n",
    "        # 解密\n",
    "    res = \"\"    # 二进制字符串，8位一组，每组最后一位是空格\n",
    "    cnt = 0     # 计数， 7循环\n",
    "    sum = 0     # 记录res中存在 字符数(7bit  1字符)\n",
    "    row = len(mat)\n",
    "    col = len(mat[1])\n",
    "    for i, j in itertools.product(range(row), range(col)):\n",
    "        # 开始读数据\n",
    "        res += '1' if (mat[i,j] & 1) == 1 else '0'\n",
    "        cnt += 1\n",
    "        # 跳出判断需要在7循环之前\n",
    "        if cnt==7:\n",
    "            res += \" \"  # 空格分割7位，也就是一个字符\n",
    "            cnt = 0     # 重新计数\n",
    "            sum += 1    # 记录字符数\n",
    "        if sum == num:\n",
    "            break\n",
    "    return res.strip()  # 返回二进制字符串（按 空格 分割可以形成list）"
   ]
  },
  {
   "cell_type": "code",
   "execution_count": 21,
   "metadata": {},
   "outputs": [],
   "source": [
    "# 初始化处理\n",
    "# mat = mpimage.imread(r\"E:\\Python\\IS\\ex2\\xiugai.jpg\",0)\n",
    "mat = cv2.imread(r\"E:\\Python\\IS\\ex2\\xiugai .jpg\",cv2.IMREAD_GRAYSCALE)\n",
    "# 显示\n",
    "cv2.imshow(\"image\",mat)\n",
    "# 关闭\n",
    "cv2.waitKey()   #要加的两行代码\n",
    "cv2.destroyAllWindows()"
   ]
  },
  {
   "cell_type": "code",
   "execution_count": 22,
   "metadata": {},
   "outputs": [],
   "source": [
    "# 需要隐藏的信息\n",
    "str = \"CQUWATERMASKEXP\" \n",
    "\n",
    "# 加密后的矩阵\n",
    "mat_encode = LSB(mat,str)\n",
    "# print(mat_encode)\n",
    "\n",
    "# 显示当前图像\n",
    "cv2.imshow(\"modify\",mat_encode)\n",
    "cv2.waitKey()\n",
    "cv2.destroyAllWindows()"
   ]
  },
  {
   "cell_type": "code",
   "execution_count": 23,
   "metadata": {},
   "outputs": [
    {
     "name": "stdout",
     "output_type": "stream",
     "text": [
      "提取到的信息： CQUWATERMASKEXP\n"
     ]
    }
   ],
   "source": [
    "# 解密\n",
    "res = anti_LSB(mat_encode,len(str))\n",
    "# print(mat)\n",
    "print(\"提取到的信息：\",bin2str(res.split(\" \")))"
   ]
  }
 ],
 "metadata": {
  "interpreter": {
   "hash": "f94055e97f51ddfa7d9cd102fb05edcbeb6bf63bb7fd3b128357cbdb378bd053"
  },
  "kernelspec": {
   "display_name": "Python 3.7.5 ('tensorflow')",
   "language": "python",
   "name": "python3"
  },
  "language_info": {
   "codemirror_mode": {
    "name": "ipython",
    "version": 3
   },
   "file_extension": ".py",
   "mimetype": "text/x-python",
   "name": "python",
   "nbconvert_exporter": "python",
   "pygments_lexer": "ipython3",
   "version": "3.7.5"
  },
  "orig_nbformat": 4
 },
 "nbformat": 4,
 "nbformat_minor": 2
}
