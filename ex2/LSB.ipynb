{
 "cells": [
  {
   "cell_type": "code",
   "execution_count": 98,
   "metadata": {},
   "outputs": [],
   "source": [
    "import numpy as np\n",
    "import cv2\n",
    "import itertools"
   ]
  },
  {
   "cell_type": "code",
   "execution_count": 102,
   "metadata": {},
   "outputs": [
    {
     "data": {
      "text/plain": [
       "-1"
      ]
     },
     "execution_count": 102,
     "metadata": {},
     "output_type": "execute_result"
    }
   ],
   "source": [
    "# mat = mpimage.imread(r\"E:\\Python\\IS\\ex2\\xiugai.jpg\",0)\n",
    "mat = cv2.imread(r\"E:\\Python\\IS\\ex2\\xiugai .jpg\",cv2.IMREAD_GRAYSCALE)\n",
    "# 显示\n",
    "cv2.imshow(\"image\",mat)\n",
    "# 关闭\n",
    "cv2.waitKey()   #要加的两行代码"
   ]
  },
  {
   "cell_type": "code",
   "execution_count": 62,
   "metadata": {},
   "outputs": [],
   "source": [
    "# 编码\n",
    "def str2bin(str):\n",
    "    return \" \".join([bin(ord(c)).replace('0b','') for c in str])\n",
    "# 解码\n",
    "def bin2str(bin):\n",
    "    return \"\".join([ chr((int(s,2))) for s in bin])"
   ]
  },
  {
   "cell_type": "code",
   "execution_count": 63,
   "metadata": {},
   "outputs": [
    {
     "name": "stdout",
     "output_type": "stream",
     "text": [
      "1000011 1010001 1010101 1010111 1000001 1010100 1000101 1010010 1001101 1000001 1010011 1001011 1000101 1011000 1010000\n",
      "CQUWATERMASKEXP\n",
      "350 350 119 15\n"
     ]
    }
   ],
   "source": [
    "# LSB，加密\n",
    "str = \"CQUWATERMASKEXP\" # 隐藏信息\n",
    "code = str2bin(str)     # 转换为二进制串\n",
    "# print(code)\n",
    "\n",
    "# 行数，列数，二进制串长度\n",
    "row = len(mat)\n",
    "col = len(mat[0])\n",
    "size = len(code)\n",
    "char_num = 15   # 字符数量   需要15*7位 像素\n",
    "print(row,col,size,char_num)\n",
    "# 写入像素最低位\n",
    "pos = 0\n",
    "for i, j in itertools.product(range(row), range(col)):\n",
    "    # 检查像素最低位,奇数-1，偶数不变\n",
    "    if (mat[i,j] & 1) == 1:\n",
    "        mat[i,j] -= 1\n",
    "\n",
    "    # 开始写入数据, 判断跳出, 空格跳过, 1 +1, 0 不变\n",
    "    if(pos >= size):\n",
    "        break\n",
    "    if(code[pos] == ' '):\n",
    "        pos += 1\n",
    "    if(code[pos] == '1'):\n",
    "        mat[i,j] += 1\n",
    "    pos+=1"
   ]
  },
  {
   "cell_type": "code",
   "execution_count": 103,
   "metadata": {},
   "outputs": [
    {
     "data": {
      "text/plain": [
       "-1"
      ]
     },
     "execution_count": 103,
     "metadata": {},
     "output_type": "execute_result"
    }
   ],
   "source": [
    "# 显示当前图像\n",
    "cv2.imshow(\"modify\",mat)\n",
    "cv2.waitKey()"
   ]
  },
  {
   "cell_type": "code",
   "execution_count": 97,
   "metadata": {},
   "outputs": [
    {
     "name": "stdout",
     "output_type": "stream",
     "text": [
      "1000011 1010001 1010101 1010111 1000001 1010100 1000101 1010010 1001101 1000001 1010011 1001011 1000101 1011000 1010000\n",
      "CQUWATERMASKEXP\n"
     ]
    }
   ],
   "source": [
    "# 解密\n",
    "res = \"\"    # 二进制字符串，8位一组，每组最后一位是空格\n",
    "cnt = 0     # 计数， 7循环\n",
    "sum = 0     # 记录res中存在字符数\n",
    "for i, j in itertools.product(range(row), range(col)):\n",
    "    # 开始读数据\n",
    "    res += '1' if (mat[i,j] & 1) == 1 else '0'\n",
    "    cnt += 1\n",
    "    sum += 1\n",
    "    # 跳出判断需要在7循环之前\n",
    "    if sum == size:\n",
    "        break\n",
    "    if cnt==7:\n",
    "        res += \" \"\n",
    "        cnt = 0\n",
    "        sum += 1\n",
    "\n",
    "print(res)\n",
    "\n",
    "print(bin2str(res.split(\" \")))"
   ]
  }
 ],
 "metadata": {
  "interpreter": {
   "hash": "f94055e97f51ddfa7d9cd102fb05edcbeb6bf63bb7fd3b128357cbdb378bd053"
  },
  "kernelspec": {
   "display_name": "Python 3.7.5 ('tensorflow')",
   "language": "python",
   "name": "python3"
  },
  "language_info": {
   "codemirror_mode": {
    "name": "ipython",
    "version": 3
   },
   "file_extension": ".py",
   "mimetype": "text/x-python",
   "name": "python",
   "nbconvert_exporter": "python",
   "pygments_lexer": "ipython3",
   "version": "3.7.5"
  },
  "orig_nbformat": 4
 },
 "nbformat": 4,
 "nbformat_minor": 2
}
