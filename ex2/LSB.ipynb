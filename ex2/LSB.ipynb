{
 "cells": [
  {
   "cell_type": "code",
   "execution_count": 2,
   "metadata": {},
   "outputs": [],
   "source": [
    "import numpy as np\n",
    "import cv2"
   ]
  },
  {
   "cell_type": "code",
   "execution_count": 3,
   "metadata": {},
   "outputs": [
    {
     "name": "stdout",
     "output_type": "stream",
     "text": [
      "350\n"
     ]
    }
   ],
   "source": [
    "# mat = mpimage.imread(r\"E:\\Python\\IS\\ex2\\xiugai.jpg\",0)\n",
    "mat = cv2.imread(r\"E:\\Python\\IS\\ex2\\xiugai .jpg\",cv2.IMREAD_GRAYSCALE)\n",
    "\n",
    "# 显示\n",
    "cv2.imshow(\"image\",mat)\n",
    "\n",
    "# 关闭\n",
    "cv2.waitKey()   #要加的两行代码\n",
    "cv2.destroyAllWindows()"
   ]
  },
  {
   "cell_type": "code",
   "execution_count": 46,
   "metadata": {},
   "outputs": [
    {
     "name": "stdout",
     "output_type": "stream",
     "text": [
      "1000011 1010001 1010101 1010111 1000001 1010100 1000101 1010010 1001101 1000001 1010011 1001011 1000101 1011000 1010000\n",
      "CQUWATERMASKEXP\n"
     ]
    }
   ],
   "source": [
    "# 编码\n",
    "def str2bin(str):\n",
    "    return \" \".join([bin(ord(c)).replace('0b','') for c in str])\n",
    "# 解码\n",
    "def bin2str(bin):\n",
    "    return \"\".join([ chr((int(s,2))) for s in bin])"
   ]
  },
  {
   "cell_type": "code",
   "execution_count": 47,
   "metadata": {},
   "outputs": [
    {
     "name": "stdout",
     "output_type": "stream",
     "text": [
      "1000011 1010001 1010101 1010111 1000001 1010100 1000101 1010010 1001101 1000001 1010011 1001011 1000101 1011000 1010000\n",
      "CQUWATERMASKEXP\n"
     ]
    }
   ],
   "source": [
    "# LSB\n",
    "str = \"CQUWATERMASKEXP\"\n",
    "code = str2bin(str)\n",
    "print(code)\n",
    "\n",
    "ans = bin2str(code.split(\" \"))\n",
    "print(ans)"
   ]
  }
 ],
 "metadata": {
  "interpreter": {
   "hash": "f94055e97f51ddfa7d9cd102fb05edcbeb6bf63bb7fd3b128357cbdb378bd053"
  },
  "kernelspec": {
   "display_name": "Python 3.7.5 ('tensorflow')",
   "language": "python",
   "name": "python3"
  },
  "language_info": {
   "codemirror_mode": {
    "name": "ipython",
    "version": 3
   },
   "file_extension": ".py",
   "mimetype": "text/x-python",
   "name": "python",
   "nbconvert_exporter": "python",
   "pygments_lexer": "ipython3",
   "version": "3.7.5"
  },
  "orig_nbformat": 4
 },
 "nbformat": 4,
 "nbformat_minor": 2
}
